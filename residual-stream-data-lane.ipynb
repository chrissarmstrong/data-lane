{
 "cells": [
  {
   "cell_type": "markdown",
   "id": "7fd85124-43a9-40c8-8c9f-ff2f11ba9e36",
   "metadata": {},
   "source": [
    "# Experimenting with an LLM residual stream 'data lane'"
   ]
  },
  {
   "cell_type": "code",
   "execution_count": 3,
   "id": "ed3cfa66-85b9-4b80-bdb9-ff7682659c7f",
   "metadata": {},
   "outputs": [
    {
     "name": "stderr",
     "output_type": "stream",
     "text": [
      "/bigdrive/anaconda3/envs/xf/lib/python3.9/site-packages/tqdm/auto.py:21: TqdmWarning: IProgress not found. Please update jupyter and ipywidgets. See https://ipywidgets.readthedocs.io/en/stable/user_install.html\n",
      "  from .autonotebook import tqdm as notebook_tqdm\n"
     ]
    }
   ],
   "source": [
    "from transformers import AutoTokenizer, set_seed\n",
    "import torch\n",
    "import torch.nn as nn\n",
    "from datasets import load_dataset\n",
    "from transformers import Trainer, TrainingArguments\n",
    "from transformers import DataCollatorForLanguageModeling\n"
   ]
  },
  {
   "cell_type": "markdown",
   "id": "e3109ff6",
   "metadata": {},
   "source": [
    "## Some setup"
   ]
  },
  {
   "cell_type": "code",
   "execution_count": null,
   "id": "7adc812d",
   "metadata": {},
   "outputs": [],
   "source": [
    "set_seed(0)\n",
    "out_dir = \"./data-lane-output\"\n",
    "keep_dir = \"./data-lane-output-keep\""
   ]
  },
  {
   "cell_type": "markdown",
   "id": "72c7fc91-a447-4b81-a15d-79ee109929f4",
   "metadata": {},
   "source": [
    "## Custom config\n",
    "Pull in the customized version of GPTNeoConfig"
   ]
  },
  {
   "cell_type": "code",
   "execution_count": 2,
   "id": "bce0b408-8115-48d8-beff-4956ff12c0a2",
   "metadata": {},
   "outputs": [],
   "source": [
    "from datalane_model.configuration_datalane import DatalaneGPTNeoConfig"
   ]
  },
  {
   "cell_type": "code",
   "execution_count": 3,
   "id": "2d32b98d-5b01-4941-9eb7-29100553f7ee",
   "metadata": {},
   "outputs": [],
   "source": [
    "# CA: Mod 1 of 1 in notebook (three others in DataLaneGPTNeoForCausalLM.py)\n",
    "#dl_config = DatalaneGPTNeoConfig() # Default (and baseline) hidden_size=768\n",
    "dl_config = DatalaneGPTNeoConfig(hidden_size=768) # modify as necessary"
   ]
  },
  {
   "cell_type": "code",
   "execution_count": 4,
   "id": "619077eb-c6bb-4aad-aa65-49be83c7412e",
   "metadata": {},
   "outputs": [],
   "source": [
    "dl_config"
   ]
  },
  {
   "cell_type": "markdown",
   "id": "e25dbd2d-797c-4ac0-9aea-72a62702aa0f",
   "metadata": {},
   "source": [
    "## Instantiate model with mods\n",
    "See `datalane_model/modeling_datalane.py` for the mods"
   ]
  },
  {
   "cell_type": "code",
   "execution_count": 5,
   "id": "1811f8e8-101b-44c6-8fd7-4ec95dd27757",
   "metadata": {},
   "outputs": [],
   "source": [
    "from datalane_model.modeling_datalane import DataLaneGPTNeoForCausalLM"
   ]
  },
  {
   "cell_type": "code",
   "execution_count": 6,
   "id": "67b08083-8063-41b1-9713-014672e3f371",
   "metadata": {},
   "outputs": [
    {
     "name": "stdout",
     "output_type": "stream",
     "text": [
      "Initializing custom model DataLaneGPTNeoModel\n",
      "in DataLaneGPTNeoForCausalLM init, self.lm_head.in_features = 192, self.lm_head.out_features = 50257\n",
      "Initializing custom model with head DataLaneGPTNeoForCausalLM\n"
     ]
    }
   ],
   "source": [
    "model = DataLaneGPTNeoForCausalLM(dl_config)\n",
    "tokenizer = AutoTokenizer.from_pretrained(\"EleutherAI/gpt-neo-125M\")\n",
    "tokenizer.pad_token = tokenizer.eos_token # This tokenizer doesn't have a pad_token, so setting one. Needed for training"
   ]
  },
  {
   "cell_type": "code",
   "execution_count": 21,
   "id": "d74ba687-a2cf-4de5-aea3-8be1e38574cd",
   "metadata": {},
   "outputs": [
    {
     "name": "stdout",
     "output_type": "stream",
     "text": [
      "trainable params: 39,566,016 || all params: 39,566,016 || trainable%: 100.00%\n"
     ]
    }
   ],
   "source": [
    "def print_trainable_parameters(model):\n",
    "    \"\"\"\n",
    "    Prints the number of trainable parameters in the model.\n",
    "    \"\"\"\n",
    "    trainable_params = 0\n",
    "    all_param = 0\n",
    "    for _, param in model.named_parameters():\n",
    "        all_param += param.numel()\n",
    "        if param.requires_grad:\n",
    "            trainable_params += param.numel()\n",
    "    print(\n",
    "        f\"trainable params: {trainable_params:,d} || all params: {all_param:,d} || trainable%: {trainable_params / all_param:.2%}\"\n",
    "    )\n",
    "\n",
    "print_trainable_parameters(model)"
   ]
  },
  {
   "cell_type": "code",
   "execution_count": 8,
   "id": "b02a91b8-20f8-41fd-80d9-ee0db7ba0452",
   "metadata": {},
   "outputs": [
    {
     "name": "stdout",
     "output_type": "stream",
     "text": [
      "device = device(type='cuda')\n"
     ]
    }
   ],
   "source": [
    "# Check if a GPU is available\n",
    "if torch.cuda.is_available():\n",
    "    device = torch.device(\"cuda\")\n",
    "else:\n",
    "    device = torch.device(\"cpu\")\n",
    "\n",
    "# Move the model to the GPU\n",
    "model = model.to(device)\n",
    "print(f\"{device = }\")"
   ]
  },
  {
   "cell_type": "markdown",
   "id": "e1ca80c4-7f2e-4f30-bcb3-9c601235f979",
   "metadata": {},
   "source": [
    "## Reinitialize the model if necessary"
   ]
  },
  {
   "cell_type": "code",
   "execution_count": 12,
   "id": "881d924a-fdfc-498b-a3ad-de24c86322eb",
   "metadata": {},
   "outputs": [],
   "source": [
    "# This is only used when initially building the model\n",
    "\n",
    "# def reinitialize_weights(model):\n",
    "#     for _, module in model.named_modules(): \n",
    "#         if isinstance(module,(torch.nn.Linear, torch.nn.Embedding)):\n",
    "#             module.weight.data.normal_(mean=0.0, std=model.config.initializer_range)\n",
    "#         elif isinstance(module, torch.nn.LayerNorm):\n",
    "#             module.bias.data.zero_()\n",
    "#             module.weight.data.fill_(1.0)\n",
    "#         if isinstance(module, torch.nn.Linear) and module.bias is not None:\n",
    "#             module.bias.data.zero_()\n",
    "#     return model\n",
    "\n",
    "# reinitialize_weights(model)"
   ]
  },
  {
   "cell_type": "code",
   "execution_count": 13,
   "id": "ad6a6102-7451-48bf-8136-884aecae6771",
   "metadata": {},
   "outputs": [],
   "source": [
    "# If weights are newly initialized this should give garbage after the prompt\n",
    "\n",
    "# prompt = \"Once upon a time there was\"\n",
    "# input_ids = tokenizer.encode(prompt, return_tensors=\"pt\").to(device)\n",
    "# output = model.generate(input_ids, max_length = 1000, num_beams=1, temperature=0.9) # Temp not affecting generation. Same every time\n",
    "# output_text = tokenizer.decode(output[0], skip_special_tokens=True)\n",
    "# print(output_text)"
   ]
  },
  {
   "cell_type": "markdown",
   "id": "e9e055ac-704c-4177-bfed-5bcd2fcc42c6",
   "metadata": {},
   "source": [
    "## Training\n",
    "Note that our test set is only 1% of the total, but we're evaluating it about 25 times per epoch, so we're spending 1/4 of our training time doing eval! Doing eval half as often would be an easy and reasonable way to speed things up."
   ]
  },
  {
   "cell_type": "code",
   "execution_count": 14,
   "id": "4a4b94bf-707b-46f5-938c-e2207e0f0e49",
   "metadata": {},
   "outputs": [],
   "source": [
    "dataset = load_dataset(\"skeskinen/TinyStories-GPT4\", split=\"train[:250000]\") # Just the first 250k samples\n",
    "\n",
    "tokenized_dataset = dataset.map(lambda examples: tokenizer(examples[\"story\"], truncation=True, padding=True), batched=True)\n",
    "\n",
    "# Split the dataset into train and test sets\n",
    "train_test_split = tokenized_dataset.train_test_split(test_size=0.01, seed=42)\n",
    "\n",
    "# Access the train and test sets\n",
    "train_dataset = train_test_split[\"train\"]\n",
    "test_dataset = train_test_split[\"test\"]"
   ]
  },
  {
   "cell_type": "code",
   "execution_count": 15,
   "id": "7a8fe8ca-1c2b-4521-86ac-0d3382ba64bb",
   "metadata": {},
   "outputs": [
    {
     "data": {
      "text/plain": [
       "Dataset({\n",
       "    features: ['story', 'summary', 'source', 'prompt', 'words', 'features'],\n",
       "    num_rows: 250000\n",
       "})"
      ]
     },
     "execution_count": 15,
     "metadata": {},
     "output_type": "execute_result"
    }
   ],
   "source": [
    "dataset"
   ]
  },
  {
   "cell_type": "code",
   "execution_count": 16,
   "id": "8abde981-2950-452e-89be-0f72a38cc525",
   "metadata": {},
   "outputs": [
    {
     "name": "stdout",
     "output_type": "stream",
     "text": [
      "env: WANDB_PROJECT=datalane_33M\n"
     ]
    }
   ],
   "source": [
    "#tokenized_dataset = dataset.map(lambda examples: tokenizer(examples[\"story\"], truncation=True, padding=True), batched=True)\n",
    "\n",
    "# Name the project for WandB\n",
    "%env WANDB_PROJECT=datalane_33M\n",
    "\n",
    "training_args = TrainingArguments(\n",
    "    output_dir=out_dir,\n",
    "    num_train_epochs=1,\n",
    "    per_device_train_batch_size=2,\n",
    "    evaluation_strategy=\"steps\",\n",
    "    logging_strategy=\"steps\",\n",
    "    save_steps=500,\n",
    "    eval_steps=5000,\n",
    "    logging_steps=500,\n",
    "    save_total_limit=2,\n",
    ")"
   ]
  },
  {
   "cell_type": "code",
   "execution_count": 19,
   "id": "7a0d21c8-8b0f-496a-874a-612a3c42207a",
   "metadata": {},
   "outputs": [
    {
     "name": "stderr",
     "output_type": "stream",
     "text": [
      "/bigdrive/anaconda3/envs/xf/lib/python3.9/site-packages/transformers/optimization.py:411: FutureWarning: This implementation of AdamW is deprecated and will be removed in a future version. Use the PyTorch implementation torch.optim.AdamW instead, or set `no_deprecation_warning=True` to disable this warning\n",
      "  warnings.warn(\n",
      "\u001b[34m\u001b[1mwandb\u001b[0m: Currently logged in as: \u001b[33mchrisarmstrong\u001b[0m. Use \u001b[1m`wandb login --relogin`\u001b[0m to force relogin\n"
     ]
    },
    {
     "data": {
      "text/html": [
       "wandb version 0.16.1 is available!  To upgrade, please run:\n",
       " $ pip install wandb --upgrade"
      ],
      "text/plain": [
       "<IPython.core.display.HTML object>"
      ]
     },
     "metadata": {},
     "output_type": "display_data"
    },
    {
     "data": {
      "text/html": [
       "Tracking run with wandb version 0.15.10"
      ],
      "text/plain": [
       "<IPython.core.display.HTML object>"
      ]
     },
     "metadata": {},
     "output_type": "display_data"
    },
    {
     "data": {
      "text/html": [
       "Run data is saved locally in <code>/home/csa/llm/wandb/run-20231217_233451-lcr62wt3</code>"
      ],
      "text/plain": [
       "<IPython.core.display.HTML object>"
      ]
     },
     "metadata": {},
     "output_type": "display_data"
    },
    {
     "data": {
      "text/html": [
       "Syncing run <strong><a href='https://wandb.ai/chrisarmstrong/datalane_33M/runs/lcr62wt3' target=\"_blank\">solar-glade-13</a></strong> to <a href='https://wandb.ai/chrisarmstrong/datalane_33M' target=\"_blank\">Weights & Biases</a> (<a href='https://wandb.me/run' target=\"_blank\">docs</a>)<br/>"
      ],
      "text/plain": [
       "<IPython.core.display.HTML object>"
      ]
     },
     "metadata": {},
     "output_type": "display_data"
    },
    {
     "data": {
      "text/html": [
       " View project at <a href='https://wandb.ai/chrisarmstrong/datalane_33M' target=\"_blank\">https://wandb.ai/chrisarmstrong/datalane_33M</a>"
      ],
      "text/plain": [
       "<IPython.core.display.HTML object>"
      ]
     },
     "metadata": {},
     "output_type": "display_data"
    },
    {
     "data": {
      "text/html": [
       " View run at <a href='https://wandb.ai/chrisarmstrong/datalane_33M/runs/lcr62wt3' target=\"_blank\">https://wandb.ai/chrisarmstrong/datalane_33M/runs/lcr62wt3</a>"
      ],
      "text/plain": [
       "<IPython.core.display.HTML object>"
      ]
     },
     "metadata": {},
     "output_type": "display_data"
    },
    {
     "name": "stderr",
     "output_type": "stream",
     "text": [
      "You're using a GPT2TokenizerFast tokenizer. Please note that with a fast tokenizer, using the `__call__` method is faster than using a method to encode the text followed by a call to the `pad` method to get a padded encoding.\n"
     ]
    },
    {
     "data": {
      "text/html": [
       "\n",
       "    <div>\n",
       "      \n",
       "      <progress value='123750' max='123750' style='width:300px; height:20px; vertical-align: middle;'></progress>\n",
       "      [123750/123750 8:25:45, Epoch 1/1]\n",
       "    </div>\n",
       "    <table border=\"1\" class=\"dataframe\">\n",
       "  <thead>\n",
       " <tr style=\"text-align: left;\">\n",
       "      <th>Step</th>\n",
       "      <th>Training Loss</th>\n",
       "      <th>Validation Loss</th>\n",
       "    </tr>\n",
       "  </thead>\n",
       "  <tbody>\n",
       "    <tr>\n",
       "      <td>5000</td>\n",
       "      <td>3.446600</td>\n",
       "      <td>3.437557</td>\n",
       "    </tr>\n",
       "    <tr>\n",
       "      <td>10000</td>\n",
       "      <td>3.016200</td>\n",
       "      <td>2.998178</td>\n",
       "    </tr>\n",
       "    <tr>\n",
       "      <td>15000</td>\n",
       "      <td>2.739700</td>\n",
       "      <td>2.759513</td>\n",
       "    </tr>\n",
       "    <tr>\n",
       "      <td>20000</td>\n",
       "      <td>2.581800</td>\n",
       "      <td>2.594901</td>\n",
       "    </tr>\n",
       "    <tr>\n",
       "      <td>25000</td>\n",
       "      <td>2.443600</td>\n",
       "      <td>2.460556</td>\n",
       "    </tr>\n",
       "    <tr>\n",
       "      <td>30000</td>\n",
       "      <td>2.345900</td>\n",
       "      <td>2.353881</td>\n",
       "    </tr>\n",
       "    <tr>\n",
       "      <td>35000</td>\n",
       "      <td>2.249800</td>\n",
       "      <td>2.269639</td>\n",
       "    </tr>\n",
       "    <tr>\n",
       "      <td>40000</td>\n",
       "      <td>2.162500</td>\n",
       "      <td>2.191979</td>\n",
       "    </tr>\n",
       "    <tr>\n",
       "      <td>45000</td>\n",
       "      <td>2.116400</td>\n",
       "      <td>2.125712</td>\n",
       "    </tr>\n",
       "    <tr>\n",
       "      <td>50000</td>\n",
       "      <td>2.066200</td>\n",
       "      <td>2.072476</td>\n",
       "    </tr>\n",
       "    <tr>\n",
       "      <td>55000</td>\n",
       "      <td>2.019200</td>\n",
       "      <td>2.029902</td>\n",
       "    </tr>\n",
       "    <tr>\n",
       "      <td>60000</td>\n",
       "      <td>1.970100</td>\n",
       "      <td>1.986558</td>\n",
       "    </tr>\n",
       "    <tr>\n",
       "      <td>65000</td>\n",
       "      <td>1.925200</td>\n",
       "      <td>1.955022</td>\n",
       "    </tr>\n",
       "    <tr>\n",
       "      <td>70000</td>\n",
       "      <td>1.908200</td>\n",
       "      <td>1.921465</td>\n",
       "    </tr>\n",
       "    <tr>\n",
       "      <td>75000</td>\n",
       "      <td>1.878900</td>\n",
       "      <td>1.893874</td>\n",
       "    </tr>\n",
       "    <tr>\n",
       "      <td>80000</td>\n",
       "      <td>1.825400</td>\n",
       "      <td>1.869700</td>\n",
       "    </tr>\n",
       "    <tr>\n",
       "      <td>85000</td>\n",
       "      <td>1.822600</td>\n",
       "      <td>1.846109</td>\n",
       "    </tr>\n",
       "    <tr>\n",
       "      <td>90000</td>\n",
       "      <td>1.798300</td>\n",
       "      <td>1.824141</td>\n",
       "    </tr>\n",
       "    <tr>\n",
       "      <td>95000</td>\n",
       "      <td>1.769500</td>\n",
       "      <td>1.806025</td>\n",
       "    </tr>\n",
       "    <tr>\n",
       "      <td>100000</td>\n",
       "      <td>1.760300</td>\n",
       "      <td>1.790101</td>\n",
       "    </tr>\n",
       "    <tr>\n",
       "      <td>105000</td>\n",
       "      <td>1.733800</td>\n",
       "      <td>1.774668</td>\n",
       "    </tr>\n",
       "    <tr>\n",
       "      <td>110000</td>\n",
       "      <td>1.736600</td>\n",
       "      <td>1.761099</td>\n",
       "    </tr>\n",
       "    <tr>\n",
       "      <td>115000</td>\n",
       "      <td>1.726100</td>\n",
       "      <td>1.749509</td>\n",
       "    </tr>\n",
       "    <tr>\n",
       "      <td>120000</td>\n",
       "      <td>1.726600</td>\n",
       "      <td>1.740977</td>\n",
       "    </tr>\n",
       "  </tbody>\n",
       "</table><p>"
      ],
      "text/plain": [
       "<IPython.core.display.HTML object>"
      ]
     },
     "metadata": {},
     "output_type": "display_data"
    },
    {
     "data": {
      "text/plain": [
       "TrainOutput(global_step=123750, training_loss=2.168235733309659, metrics={'train_runtime': 30351.0487, 'train_samples_per_second': 8.155, 'train_steps_per_second': 4.077, 'total_flos': 4.049221682219213e+16, 'train_loss': 2.168235733309659, 'epoch': 1.0})"
      ]
     },
     "execution_count": 19,
     "metadata": {},
     "output_type": "execute_result"
    }
   ],
   "source": [
    "trainer = Trainer(\n",
    "    model=model,\n",
    "    args=training_args,\n",
    "#    train_dataset=tokenized_dataset[\"train\"],\n",
    "#    train_dataset=tokenized_dataset, # if doing subset for testing\n",
    "    train_dataset=train_dataset,\n",
    "    eval_dataset=test_dataset,\n",
    "    data_collator = DataCollatorForLanguageModeling(tokenizer=tokenizer, mlm=False) #, mlm_probability=0.15)\n",
    ")\n",
    "trainer.train()"
   ]
  },
  {
   "cell_type": "markdown",
   "id": "53bb5726-c33f-47a3-82bb-6d56835cf22a",
   "metadata": {},
   "source": [
    "## Analysis"
   ]
  },
  {
   "cell_type": "code",
   "execution_count": 1,
   "id": "a0c45b40-6618-427d-98d2-f0546acdf8ca",
   "metadata": {},
   "outputs": [],
   "source": [
    "import pandas as pd\n",
    "import matplotlib.pyplot as plt"
   ]
  },
  {
   "cell_type": "code",
   "execution_count": 4,
   "id": "9451a3aa-66e0-4843-8153-35de75c0f833",
   "metadata": {},
   "outputs": [],
   "source": [
    "# Read the CSV file that I'm using to store run data\n",
    "\n",
    "df = pd.read_csv(keep_dir + '/' + 'ML Runs _ Results - DataLane Runs.csv')"
   ]
  },
  {
   "cell_type": "code",
   "execution_count": 5,
   "id": "4b380625-60b2-4259-a26f-97d959db6795",
   "metadata": {},
   "outputs": [
    {
     "data": {
      "text/html": [
       "<div>\n",
       "<style scoped>\n",
       "    .dataframe tbody tr th:only-of-type {\n",
       "        vertical-align: middle;\n",
       "    }\n",
       "\n",
       "    .dataframe tbody tr th {\n",
       "        vertical-align: top;\n",
       "    }\n",
       "\n",
       "    .dataframe thead th {\n",
       "        text-align: right;\n",
       "    }\n",
       "</style>\n",
       "<table border=\"1\" class=\"dataframe\">\n",
       "  <thead>\n",
       "    <tr style=\"text-align: right;\">\n",
       "      <th></th>\n",
       "      <th>W&amp;B Name</th>\n",
       "      <th>Label</th>\n",
       "      <th>base model</th>\n",
       "      <th>num_layers</th>\n",
       "      <th>hidden_size (residual stream)</th>\n",
       "      <th>embedding size</th>\n",
       "      <th>Trainable params</th>\n",
       "      <th>eval loss @ 98% of 1 epoch of 250k</th>\n",
       "      <th>eval loss delta from baseline</th>\n",
       "      <th>Training time (hours)</th>\n",
       "      <th>Training</th>\n",
       "      <th>Initialization</th>\n",
       "      <th>Embed / DL config</th>\n",
       "      <th>Total DS</th>\n",
       "      <th>Test split</th>\n",
       "      <th>Notes</th>\n",
       "    </tr>\n",
       "  </thead>\n",
       "  <tbody>\n",
       "    <tr>\n",
       "      <th>0</th>\n",
       "      <td>no-dl-clean-run-4</td>\n",
       "      <td>NoDL-96-96-5.5M</td>\n",
       "      <td>GPTNeo</td>\n",
       "      <td>4</td>\n",
       "      <td>96</td>\n",
       "      <td>96</td>\n",
       "      <td>5,467,680</td>\n",
       "      <td>2.507</td>\n",
       "      <td>-50.9%</td>\n",
       "      <td>4.4</td>\n",
       "      <td>from scratch</td>\n",
       "      <td>random</td>\n",
       "      <td>NaN</td>\n",
       "      <td>250k</td>\n",
       "      <td>0.01</td>\n",
       "      <td>Embedding is entire (small) residual stream</td>\n",
       "    </tr>\n",
       "    <tr>\n",
       "      <th>1</th>\n",
       "      <td>no-dl-clean-run-5</td>\n",
       "      <td>NoDL-384-384-27M</td>\n",
       "      <td>GPTNeo</td>\n",
       "      <td>4</td>\n",
       "      <td>384</td>\n",
       "      <td>384</td>\n",
       "      <td>27,179,136</td>\n",
       "      <td>1.761</td>\n",
       "      <td>-6.0%</td>\n",
       "      <td>6.6</td>\n",
       "      <td>from scratch</td>\n",
       "      <td>random</td>\n",
       "      <td>NaN</td>\n",
       "      <td>250k</td>\n",
       "      <td>0.01</td>\n",
       "      <td>Compare to run 3 (DL vs normal xf with semi-co...</td>\n",
       "    </tr>\n",
       "    <tr>\n",
       "      <th>2</th>\n",
       "      <td>no-dl-clean-run-0</td>\n",
       "      <td>NoDL-768-768-69M</td>\n",
       "      <td>GPTNeo</td>\n",
       "      <td>4</td>\n",
       "      <td>768</td>\n",
       "      <td>768</td>\n",
       "      <td>68,514,048</td>\n",
       "      <td>1.661</td>\n",
       "      <td>0.0%</td>\n",
       "      <td>15.0</td>\n",
       "      <td>from scratch</td>\n",
       "      <td>random</td>\n",
       "      <td>NaN</td>\n",
       "      <td>250k</td>\n",
       "      <td>0.01</td>\n",
       "      <td>Baseline - embedding is entire residual stream...</td>\n",
       "    </tr>\n",
       "    <tr>\n",
       "      <th>3</th>\n",
       "      <td>dl-clean-run-1</td>\n",
       "      <td>DL-768-384-49M</td>\n",
       "      <td>GPTNeo with DL</td>\n",
       "      <td>4</td>\n",
       "      <td>768</td>\n",
       "      <td>384</td>\n",
       "      <td>49,215,360</td>\n",
       "      <td>1.722</td>\n",
       "      <td>-3.7%</td>\n",
       "      <td>9.3</td>\n",
       "      <td>from scratch</td>\n",
       "      <td>random</td>\n",
       "      <td>same</td>\n",
       "      <td>250k</td>\n",
       "      <td>0.01</td>\n",
       "      <td>Embedding is 1/2 of baseline residual stream</td>\n",
       "    </tr>\n",
       "    <tr>\n",
       "      <th>4</th>\n",
       "      <td>dl-clean-run-2</td>\n",
       "      <td>DL-768-192-40M</td>\n",
       "      <td>GPTNeo with DL</td>\n",
       "      <td>4</td>\n",
       "      <td>768</td>\n",
       "      <td>192</td>\n",
       "      <td>39,566,016</td>\n",
       "      <td>1.741</td>\n",
       "      <td>-4.8%</td>\n",
       "      <td>8.7</td>\n",
       "      <td>from scratch</td>\n",
       "      <td>random</td>\n",
       "      <td>same</td>\n",
       "      <td>250k</td>\n",
       "      <td>0.01</td>\n",
       "      <td>Embedding is 1/4 of baseline residual stream</td>\n",
       "    </tr>\n",
       "    <tr>\n",
       "      <th>5</th>\n",
       "      <td>dl-clean-run-3</td>\n",
       "      <td>DL-768-96-35M</td>\n",
       "      <td>GPTNeo with DL</td>\n",
       "      <td>4</td>\n",
       "      <td>768</td>\n",
       "      <td>96</td>\n",
       "      <td>34,741,344</td>\n",
       "      <td>1.813</td>\n",
       "      <td>-9.2%</td>\n",
       "      <td>8.0</td>\n",
       "      <td>from scratch</td>\n",
       "      <td>random</td>\n",
       "      <td>same</td>\n",
       "      <td>250k</td>\n",
       "      <td>0.01</td>\n",
       "      <td>Embedding is 1/8 of baseline residual stream</td>\n",
       "    </tr>\n",
       "    <tr>\n",
       "      <th>6</th>\n",
       "      <td>switch-dl-clean-run-6</td>\n",
       "      <td>SwDL-768-192-40M</td>\n",
       "      <td>GPTNeo with sw DL</td>\n",
       "      <td>4</td>\n",
       "      <td>768</td>\n",
       "      <td>192</td>\n",
       "      <td>39,566,016</td>\n",
       "      <td>1.741</td>\n",
       "      <td>-4.8%</td>\n",
       "      <td>8.4</td>\n",
       "      <td>from scratch</td>\n",
       "      <td>random</td>\n",
       "      <td>switch</td>\n",
       "      <td>250k</td>\n",
       "      <td>0.01</td>\n",
       "      <td>Compare to run 2 (same vs switch) - does switc...</td>\n",
       "    </tr>\n",
       "  </tbody>\n",
       "</table>\n",
       "</div>"
      ],
      "text/plain": [
       "                W&B Name             Label         base model  num_layers  \\\n",
       "0      no-dl-clean-run-4   NoDL-96-96-5.5M             GPTNeo           4   \n",
       "1      no-dl-clean-run-5  NoDL-384-384-27M             GPTNeo           4   \n",
       "2      no-dl-clean-run-0  NoDL-768-768-69M             GPTNeo           4   \n",
       "3         dl-clean-run-1    DL-768-384-49M     GPTNeo with DL           4   \n",
       "4         dl-clean-run-2    DL-768-192-40M     GPTNeo with DL           4   \n",
       "5         dl-clean-run-3     DL-768-96-35M     GPTNeo with DL           4   \n",
       "6  switch-dl-clean-run-6  SwDL-768-192-40M  GPTNeo with sw DL           4   \n",
       "\n",
       "   hidden_size (residual stream)  embedding size Trainable params  \\\n",
       "0                             96              96        5,467,680   \n",
       "1                            384             384       27,179,136   \n",
       "2                            768             768       68,514,048   \n",
       "3                            768             384       49,215,360   \n",
       "4                            768             192       39,566,016   \n",
       "5                            768              96       34,741,344   \n",
       "6                            768             192       39,566,016   \n",
       "\n",
       "   eval loss @ 98% of 1 epoch of 250k eval loss delta from baseline  \\\n",
       "0                               2.507                        -50.9%   \n",
       "1                               1.761                         -6.0%   \n",
       "2                               1.661                          0.0%   \n",
       "3                               1.722                         -3.7%   \n",
       "4                               1.741                         -4.8%   \n",
       "5                               1.813                         -9.2%   \n",
       "6                               1.741                         -4.8%   \n",
       "\n",
       "   Training time (hours)      Training Initialization Embed / DL config  \\\n",
       "0                    4.4  from scratch         random               NaN   \n",
       "1                    6.6  from scratch         random               NaN   \n",
       "2                   15.0  from scratch         random               NaN   \n",
       "3                    9.3  from scratch         random              same   \n",
       "4                    8.7  from scratch         random              same   \n",
       "5                    8.0  from scratch         random              same   \n",
       "6                    8.4  from scratch         random            switch   \n",
       "\n",
       "  Total DS  Test split                                              Notes  \n",
       "0     250k        0.01        Embedding is entire (small) residual stream  \n",
       "1     250k        0.01  Compare to run 3 (DL vs normal xf with semi-co...  \n",
       "2     250k        0.01  Baseline - embedding is entire residual stream...  \n",
       "3     250k        0.01       Embedding is 1/2 of baseline residual stream  \n",
       "4     250k        0.01       Embedding is 1/4 of baseline residual stream  \n",
       "5     250k        0.01       Embedding is 1/8 of baseline residual stream  \n",
       "6     250k        0.01  Compare to run 2 (same vs switch) - does switc...  "
      ]
     },
     "execution_count": 5,
     "metadata": {},
     "output_type": "execute_result"
    }
   ],
   "source": [
    "df"
   ]
  },
  {
   "cell_type": "code",
   "execution_count": 39,
   "id": "febb439f-5cf7-42d6-a507-614c4ad3e02f",
   "metadata": {},
   "outputs": [],
   "source": [
    "# Ensure that 'Training time (hours)', 'eval loss @ 98% of 1 epoch of 250k',\n",
    "# and 'Trainable params' are numeric\n",
    "\n",
    "df['Training time (hours)'] = pd.to_numeric(df['Training time (hours)'], errors='coerce')\n",
    "df['eval loss @ 98% of 1 epoch of 250k'] = pd.to_numeric(df['eval loss @ 98% of 1 epoch of 250k'], errors='coerce')\n",
    "df['Trainable params'] = pd.to_numeric(df['Trainable params'].str.replace(',', ''))"
   ]
  },
  {
   "cell_type": "code",
   "execution_count": 89,
   "id": "347dd9c7-5725-44d1-ae27-bb9e07a0eaf8",
   "metadata": {},
   "outputs": [
    {
     "data": {
      "image/png": "[encoded data removed]",
      "text/plain": [
       "<Figure size 1000x600 with 1 Axes>"
      ]
     },
     "metadata": {},
     "output_type": "display_data"
    }
   ],
   "source": [
    "# Plot eval loss vs trainable params\n",
    "\n",
    "plotlog = False\n",
    "plt.figure(figsize=(10, 6))\n",
    "ax = plt.gca() # Get the current Axes instance (for use with log scale)\n",
    "if plotlog:\n",
    "    ax.set_xscale('log') # Set the x-axis to a logarithmic scale\n",
    "\n",
    "for i, txt in enumerate(df['Label']):\n",
    "    if txt.startswith(\"DL\"):\n",
    "        color = 'blue'\n",
    "        xytext=(22,22)\n",
    "    elif txt.startswith(\"NoDL\"):\n",
    "        color = 'green'\n",
    "        xytext=(-22,-28)\n",
    "    elif txt.startswith(\"SwDL\"):\n",
    "        color = 'red'\n",
    "        xytext=(0,-28)\n",
    "    else:\n",
    "        color = 'black'\n",
    "        xytext=(22,22)\n",
    "   \n",
    "    plt.scatter(df['Trainable params'].iloc[i], df['eval loss @ 98% of 1 epoch of 250k'].iloc[i], color=color)\n",
    "    plt.annotate(txt, (df['Trainable params'].iloc[i], df['eval loss @ 98% of 1 epoch of 250k'].iloc[i]), \n",
    "             xytext=xytext, textcoords='offset points',\n",
    "             arrowprops=dict(facecolor='black', width=0.1, headlength=1.0, headwidth=0.0, shrink=0.))\n",
    "\n",
    "plt.title('Evaluation Loss vs Trainable params')\n",
    "plt.xlabel('Trainable params')\n",
    "plt.ylabel('Evaluation Loss')\n",
    "plt.grid(True)\n",
    "ax.set_xlim([0, None])\n",
    "ax.set_ylim([0, None])\n",
    "plt.show()\n"
   ]
  },
  {
   "cell_type": "code",
   "execution_count": 88,
   "id": "666cd226-3273-4d38-8b0f-492b4206abde",
   "metadata": {},
   "outputs": [
    {
     "data": {
      "image/png": "[encoded data removed]",
      "text/plain": [
       "<Figure size 1000x600 with 1 Axes>"
      ]
     },
     "metadata": {},
     "output_type": "display_data"
    }
   ],
   "source": [
    "# Plot eval loss vs training time\n",
    "\n",
    "plotlog = False\n",
    "plt.figure(figsize=(10, 6))\n",
    "ax = plt.gca() # Get the current Axes instance (for use with log scale)\n",
    "if plotlog:\n",
    "    ax.set_xscale('log') # Set the x-axis to a logarithmic scale\n",
    "\n",
    "for i, txt in enumerate(df['Label']):\n",
    "    if txt.startswith(\"DL\"):\n",
    "        color = 'blue'\n",
    "        xytext=(22,22)\n",
    "    elif txt.startswith(\"NoDL\"):\n",
    "        color = 'green'\n",
    "        xytext=(-22,-28)\n",
    "    elif txt.startswith(\"SwDL\"):\n",
    "        color = 'red'\n",
    "        xytext=(-22,-28)\n",
    "    else:\n",
    "        color = 'black'\n",
    "        xytext=(22,22)\n",
    "\n",
    "    plt.scatter(df['Training time (hours)'].iloc[i], df['eval loss @ 98% of 1 epoch of 250k'].iloc[i], color=color)\n",
    "    plt.annotate(txt, (df['Training time (hours)'].iloc[i], df['eval loss @ 98% of 1 epoch of 250k'].iloc[i]), \n",
    "             xytext=xytext, textcoords='offset points',\n",
    "             arrowprops=dict(facecolor='black', width=0.1, headlength=1.0, headwidth=0.0, shrink=0.))\n",
    "\n",
    "plt.title('Evaluation Loss vs Training Time')\n",
    "plt.xlabel('Training Time (hours)')\n",
    "plt.ylabel('Evaluation Loss')\n",
    "plt.grid(True)\n",
    "ax.set_ylim([0, None]) # Set the minimum value of the y-axis to 0\n",
    "plt.show()"
   ]
  },
  {
   "cell_type": "code",
   "execution_count": null,
   "id": "b1e4a385-e470-4a72-9317-e578da644844",
   "metadata": {},
   "outputs": [],
   "source": []
  },
  {
   "cell_type": "markdown",
   "id": "9c431112-2db8-4521-8f34-fe0d2cb77bbf",
   "metadata": {},
   "source": [
    "## Restore from checkpoint (if needed)\n",
    "Note: requires restarting the kernel."
   ]
  },
  {
   "cell_type": "code",
   "execution_count": null,
   "id": "0eaee919-a20a-42df-acf3-ec8f9c275f6e",
   "metadata": {},
   "outputs": [],
   "source": [
    "set_seed(0)\n",
    "\n",
    "from transformers import GPTNeoForCausalLM\n",
    "model = GPTNeoForCausalLM.from_pretrained(keep_dir + \"/\" + \"checkpoint-123500\", device_map=\"auto\")\n",
    "\n",
    "tokenizer = AutoTokenizer.from_pretrained(\"EleutherAI/gpt-neo-125M\")\n",
    "tokenizer.pad_token = tokenizer.eos_token\n",
    "\n",
    "device = model.device\n",
    "print(device)"
   ]
  },
  {
   "cell_type": "markdown",
   "id": "e626a549-2e58-4073-97d5-10aa70420733",
   "metadata": {},
   "source": [
    "## Test LLM Generation"
   ]
  },
  {
   "cell_type": "code",
   "execution_count": null,
   "id": "5a501a73-46d7-440e-83f6-c009e235b2a7",
   "metadata": {},
   "outputs": [],
   "source": [
    "prompt = \"Once upon a time there was\"\n",
    "input_ids = tokenizer.encode(prompt, return_tensors=\"pt\").to(device)\n",
    "output = model.generate(input_ids, max_length = 1000, num_beams=1, do_sample=True, temperature=0.9) # do_sample=True gives non-greedy sampling\n",
    "output_text = tokenizer.decode(output[0], skip_special_tokens=True)\n",
    "print(output_text)"
   ]
  },
  {
   "cell_type": "code",
   "execution_count": null,
   "id": "30ae4a4f-11de-4e17-bd23-8ab5293a9fc0",
   "metadata": {},
   "outputs": [],
   "source": []
  }
 ],
 "metadata": {
  "kernelspec": {
   "display_name": "xf",
   "language": "python",
   "name": "xf"
  },
  "language_info": {
   "codemirror_mode": {
    "name": "ipython",
    "version": 3
   },
   "file_extension": ".py",
   "mimetype": "text/x-python",
   "name": "python",
   "nbconvert_exporter": "python",
   "pygments_lexer": "ipython3",
   "version": "3.9.17"
  }
 },
 "nbformat": 4,
 "nbformat_minor": 5
}
